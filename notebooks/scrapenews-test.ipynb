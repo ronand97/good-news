{
 "cells": [
  {
   "cell_type": "code",
   "execution_count": 1,
   "metadata": {
    "ExecuteTime": {
     "end_time": "2020-09-01T15:05:28.532779Z",
     "start_time": "2020-09-01T15:05:27.490825Z"
    }
   },
   "outputs": [],
   "source": [
    "import datetime\n",
    "import logging\n",
    "\n",
    "\n",
    "from bs4 import BeautifulSoup\n",
    "import requests\n",
    "import pandas as pd\n",
    "import re\n",
    "import dateutil.parser\n",
    "from tqdm import tqdm\n",
    "import json\n",
    "import time\n",
    "import requests\n",
    "\n",
    "import azure.functions as func\n"
   ]
  },
  {
   "cell_type": "code",
   "execution_count": 2,
   "metadata": {
    "ExecuteTime": {
     "end_time": "2020-09-01T15:05:28.540791Z",
     "start_time": "2020-09-01T15:05:28.535287Z"
    }
   },
   "outputs": [],
   "source": [
    "def mask_df(in_df, col='', filt=''):\n",
    "    \"\"\" Filters dataframe using user defined column and filter\"\"\"\n",
    "    mask = in_df[col] == filt\n",
    "    return in_df[mask]"
   ]
  },
  {
   "cell_type": "code",
   "execution_count": 3,
   "metadata": {
    "ExecuteTime": {
     "end_time": "2020-09-01T15:05:28.556717Z",
     "start_time": "2020-09-01T15:05:28.544748Z"
    }
   },
   "outputs": [],
   "source": [
    "def get_all_article_urls(url, website_attributes):\n",
    "    r=requests.get(url)\n",
    "    soup = BeautifulSoup(r.text, 'html.parser')\n",
    "    base_shim_url = re.match('^.+?[^\\/:](?=[?\\/]|$)', url).group(0)\n",
    "    print('base url is', base_shim_url)\n",
    "    \n",
    "    if base_shim_url in website_attributes:\n",
    "        print('web parameters found, parsing')\n",
    "        params = website_attributes[base_shim_url]\n",
    "        \n",
    "        all_articles = soup.find(params['all_article_tag'],\n",
    "                                 attrs={'class': params['all_article_class']})\n",
    "        all_article_urls = all_articles.find_all(params['article_tag'])\n",
    "        return_urls = []\n",
    "        for article_url in all_article_urls:\n",
    "            if 'bbc' in base_shim_url:\n",
    "                return_urls.append(base_shim_url+article_url.find('a')['href'])\n",
    "            else:\n",
    "                return_urls.append(article_url.find('a')['href'])\n",
    "        print('number of article URLs found:', len(return_urls))\n",
    "    return return_urls"
   ]
  },
  {
   "cell_type": "code",
   "execution_count": 4,
   "metadata": {
    "ExecuteTime": {
     "end_time": "2020-09-01T15:05:28.575543Z",
     "start_time": "2020-09-01T15:05:28.559737Z"
    }
   },
   "outputs": [],
   "source": [
    "def get_article_details(url, website_attributes):\n",
    "    \n",
    "    r = requests.get(url)\n",
    "    soup = BeautifulSoup(r.text, 'html.parser')\n",
    "    base_shim_url = re.match('^.+?[^\\/:](?=[?\\/]|$)', url).group(0)\n",
    "#     print('base url is', base_shim_url)\n",
    "    \n",
    "    article_title = soup.title.text.strip()\n",
    "    \n",
    "    if base_shim_url in website_attributes:\n",
    "#         print('web parameters found, parsing')\n",
    "        params = website_attributes[base_shim_url]\n",
    "        \n",
    "        try:\n",
    "            article_date = soup.find(params['date_tag']\n",
    "                                 , attrs={'class': params['date_class']})\n",
    "            article_date = article_date.text.strip()\n",
    "        except AttributeError:\n",
    "            print('error - article date could not be found')\n",
    "            return None, None, None, None\n",
    "        \n",
    "        try:\n",
    "            postContent = soup.find(params['content_tag']\n",
    "                                    , attrs={'class': params['content_class']})\n",
    "        except AttributeError:\n",
    "            print('error - article content could not be found')\n",
    "            return None, None, None, None\n",
    "            \n",
    "        article_text = []\n",
    "        for para in postContent.find_all('p'):\n",
    "            article_text.append(para.text.strip())\n",
    "        \n",
    "        return article_title, article_date, article_text, base_shim_url\n",
    "    else:\n",
    "        print('url not found in website parameters. returning None types')\n",
    "        return None, None, None, None"
   ]
  },
  {
   "cell_type": "code",
   "execution_count": 5,
   "metadata": {
    "ExecuteTime": {
     "end_time": "2020-09-01T15:05:52.744102Z",
     "start_time": "2020-09-01T15:05:28.577537Z"
    }
   },
   "outputs": [
    {
     "name": "stdout",
     "output_type": "stream",
     "text": [
      "base url is https://www.optimistdaily.com\n",
      "web parameters found, parsing\n",
      "number of article URLs found: 10\n"
     ]
    },
    {
     "name": "stderr",
     "output_type": "stream",
     "text": [
      "\r",
      "  0%|                                                                                           | 0/20 [00:00<?, ?it/s]"
     ]
    },
    {
     "name": "stdout",
     "output_type": "stream",
     "text": [
      "base url is https://www.bbc.co.uk\n",
      "web parameters found, parsing\n",
      "number of article URLs found: 10\n"
     ]
    },
    {
     "name": "stderr",
     "output_type": "stream",
     "text": [
      " 55%|█████████████████████████████████████████████                                     | 11/20 [00:17<00:12,  1.36s/it]"
     ]
    },
    {
     "name": "stdout",
     "output_type": "stream",
     "text": [
      "error - article date could not be found\n"
     ]
    },
    {
     "name": "stderr",
     "output_type": "stream",
     "text": [
      "\r",
      " 60%|█████████████████████████████████████████████████▏                                | 12/20 [00:18<00:08,  1.06s/it]"
     ]
    },
    {
     "name": "stdout",
     "output_type": "stream",
     "text": [
      "error - article date could not be found\n"
     ]
    },
    {
     "name": "stderr",
     "output_type": "stream",
     "text": [
      " 75%|█████████████████████████████████████████████████████████████▌                    | 15/20 [00:19<00:02,  1.76it/s]"
     ]
    },
    {
     "name": "stdout",
     "output_type": "stream",
     "text": [
      "error - article date could not be found\n"
     ]
    },
    {
     "name": "stderr",
     "output_type": "stream",
     "text": [
      " 85%|█████████████████████████████████████████████████████████████████████▋            | 17/20 [00:19<00:01,  2.35it/s]"
     ]
    },
    {
     "name": "stdout",
     "output_type": "stream",
     "text": [
      "error - article date could not be found\n"
     ]
    },
    {
     "name": "stderr",
     "output_type": "stream",
     "text": [
      "100%|██████████████████████████████████████████████████████████████████████████████████| 20/20 [00:20<00:00,  1.02s/it]"
     ]
    },
    {
     "name": "stdout",
     "output_type": "stream",
     "text": [
      "error - article date could not be found\n"
     ]
    },
    {
     "name": "stderr",
     "output_type": "stream",
     "text": [
      "\n"
     ]
    }
   ],
   "source": [
    "# we note down the HTML class types and names that contain the news. \n",
    "# This works by first looking at a page containing many news stories,\n",
    "# such as today's news. Then it looks for URLs using all_article_{var}\n",
    "# key:value pairs. Then it navigates to each article, pulls out the \n",
    "# title, date and core text content (although the text is unused as of \n",
    "# 27/08/2020 due to copyright concerns)\n",
    "website_attributes = {\n",
    "    'https://www.optimistdaily.com': {\n",
    "        'all_article_tag': 'div',\n",
    "        'all_article_class': 'single-post-content-sidebar-wrap',\n",
    "        'article_tag': 'article',\n",
    "        'date_tag': 'time',\n",
    "        'date_class': 'entry-time',\n",
    "        'content_tag': 'div',\n",
    "        'content_class': 'postContent'\n",
    "    },\n",
    "    'https://www.bbc.co.uk': {\n",
    "        'all_article_tag': 'div',\n",
    "        'all_article_class': 'gel-layout gel-layout--center',\n",
    "        'article_tag': 'article',\n",
    "        'date_tag': 'div',\n",
    "        'date_class': 'date date--v2',\n",
    "        'content_tag': 'div',\n",
    "        'content_class': 'story-body__inner'\n",
    "    }\n",
    "}\n",
    "url1 = 'https://www.optimistdaily.com/todays-solutions/'\n",
    "url2 = 'https://www.bbc.co.uk/news/topics/cx2pk70323et/uplifting-stories'\n",
    "\n",
    "df_scraped = pd.DataFrame()\n",
    "cols = ['url', 'title', 'date', 'text', 'root_url']\n",
    "\n",
    "todays_articles_1 = get_all_article_urls(url1, website_attributes)\n",
    "todays_articles_2 = get_all_article_urls(url2, website_attributes)\n",
    "\n",
    "todays_articles = todays_articles_1 + todays_articles_2\n",
    "\n",
    "for url in tqdm(todays_articles):\n",
    "    article_title, article_date, article_text, base_url = get_article_details(url, website_attributes)\n",
    "    df_scraped = df_scraped.append(pd.DataFrame([[url, article_title, article_date, \n",
    "                                            article_text, base_url]], \n",
    "                                        columns=cols))\n",
    "\n",
    "df_scraped = df_scraped.dropna(how='any')\n",
    "df_scraped['date_parsed'] = [dateutil.parser.parse(x).date() for x in df_scraped['date']]\n",
    "df_scraped['title_parsed'] = [x.split('|')[0] for x in df_scraped['title']]\n",
    "df_scraped['provider_parsed'] = [x.split('.')[1] for x in df_scraped['root_url']]\n",
    "\n",
    "# Now we have all the data we read in the titles from Podio to \n",
    "# check if any articles already exist. If not, they are posted to Podio.\n",
    "\n",
    "\n",
    "# using james' shim layer to define api URLs\n",
    "base_shim_url = 'https://goodnewsmicroapp.azurewebsites.net/api'\n",
    "auth_url = f'{base_shim_url}/PodioAuth'\n",
    "\n",
    "podio_data = {\n",
    "    \"app_id\": \"25058801\",\n",
    "    \"app_token\": \"683029008df9495a8947c90a38f75ce9\",\n",
    "    \"client_id\": \"goodnews\",\n",
    "    \"client_secret\": \"wrCUCZSxFuPmPZpm7f9iRWm9J4mS6VshbDuXxjNYAHL5RAMTKOFy4VSwHZ4w3csk\",\n",
    "    \"grant_type\": \"client_credentials\"\n",
    "}\n",
    "\n",
    "# store podio auth info locally and get auth token here \n",
    "\n",
    "app_id = podio_data['app_id']\n",
    "podio_resp = requests.post(auth_url, data=podio_data)\n",
    "\n",
    "if not podio_resp.ok:\n",
    "    raise Exception(\"Auth failed\", podio_resp)\n",
    "\n",
    "podio_resp = podio_resp.json()\n",
    "token = podio_resp['access_token']\n",
    "\n",
    "headers = {\n",
    "\"content-type\": \"application/json\",\n",
    "\"authorization\": \"Bearer \" + token,\n",
    "\"x-podio-client-id\": 'x',\n",
    "\"x-podio-client-secret\": 'x'\n",
    "}\n",
    "\n",
    "# now we have auth token in a header we can return item data\n",
    "item_url = f'{base_shim_url}/PodioProxy/item/app/{app_id}/filter/'\n",
    "data = {\n",
    "    \"limit\":500,\n",
    "    \"offset\":0,\n",
    "    \"filters\":{\n",
    "        }\n",
    "    }\n",
    "\n",
    "all_data = requests.post(item_url, headers=headers, json=data).json()\n",
    "df_from_podio = pd.json_normalize(all_data)\n",
    "df_from_podio = df_from_podio.dropna()\n",
    "\n",
    "# we treat the article titles as UIDs and check against them\n",
    "# to see if they exist, and if not post to Podio\n",
    "all_titles = df_from_podio['Title'].values\n",
    "\n",
    "# since James' shim doesn't work for posting, we redefine our request URL\n",
    "# and also remove the two proprietary header entries\n",
    "post_headers = {\n",
    "    \"content-type\": \"application/json\",\n",
    "    \"authorization\": \"Bearer \" + token,\n",
    "    }\n"
   ]
  },
  {
   "cell_type": "code",
   "execution_count": 6,
   "metadata": {
    "ExecuteTime": {
     "end_time": "2020-09-01T15:05:53.219440Z",
     "start_time": "2020-09-01T15:05:52.747076Z"
    }
   },
   "outputs": [],
   "source": [
    "all_data = requests.post(item_url, headers=headers, json=data)\n"
   ]
  },
  {
   "cell_type": "code",
   "execution_count": 7,
   "metadata": {
    "ExecuteTime": {
     "end_time": "2020-09-01T15:05:53.236374Z",
     "start_time": "2020-09-01T15:05:53.221401Z"
    }
   },
   "outputs": [
    {
     "name": "stdout",
     "output_type": "stream",
     "text": [
      "Five years on, many refugees are feeling at home in Germany  already in podio... ignoring\n",
      "Craving a bedtime snack? These 9 foods promote deeper sleep  already in podio... ignoring\n",
      "Finnish town gives locals free cake if they cut their carbon footprint  already in podio... ignoring\n",
      "A giant virtual power plant is coming to California to avoid blackouts  already in podio... ignoring\n",
      "6 ways to take back your motivation  already in podio... ignoring\n",
      "Doubling down on diesel: CA regulations will slash nitrogen oxide emissions  already in podio... ignoring\n",
      "Not a gram of salmon goes to waste with this new process  already in podio... ignoring\n",
      "New lidar technology offers a glimpse into the unexplored depths of our oceans  already in podio... ignoring\n",
      "These US firms are part of a global reforestation effort to plant 1tn trees  already in podio... ignoring\n",
      "Long-awaited Giantess Geyser finally erupts  already in podio... ignoring\n",
      "Rhyl lifeboat crew rescue seagull-chasing dog from sea - BBC News already in podio... ignoring\n",
      "Going for a Lake District walk with Max the Miracle Dog - BBC News already in podio... ignoring\n",
      "Staithes sea rescue: Boy, 11, jumps in to save toddler - BBC News already in podio... ignoring\n",
      "Missing ring found: Merthyr Tydfil mother reunited with son's ashes - BBC News already in podio... ignoring\n",
      "Boy, 8, cuddles West Midlands Police pups on bucket list day - BBC News already in podio... ignoring\n"
     ]
    }
   ],
   "source": [
    "post_item_url = f\"https://api.podio.com/item/app/{app_id}/\"\n",
    "\n",
    "for index, row in df_scraped.iterrows():  \n",
    "    if row.title_parsed.strip() in all_titles:\n",
    "        print(f'{row.title_parsed} already in podio... ignoring')\n",
    "        pass\n",
    "    else:    \n",
    "        item = {\n",
    "            \"title\": str(row.title_parsed),\n",
    "            \"url-3\": str(row.url),\n",
    "            \"date-3\": str(row.date_parsed),\n",
    "            \"provider\": str(row.provider_parsed),\n",
    "            \"upvotes\": 0,\n",
    "            \"downvotes\": 0,\n",
    "        }\n",
    "        data = {\n",
    "            \"fields\": item\n",
    "        }\n",
    "\n",
    "        item_resp = requests.post(post_item_url, json=data, headers=post_headers)\n",
    "        if not item_resp.ok:\n",
    "            raise Exception(\"Post failed\", item_resp)\n"
   ]
  },
  {
   "cell_type": "code",
   "execution_count": 8,
   "metadata": {
    "ExecuteTime": {
     "end_time": "2020-09-01T15:16:23.137927Z",
     "start_time": "2020-09-01T15:16:23.088537Z"
    }
   },
   "outputs": [
    {
     "data": {
      "text/html": [
       "<div>\n",
       "<style scoped>\n",
       "    .dataframe tbody tr th:only-of-type {\n",
       "        vertical-align: middle;\n",
       "    }\n",
       "\n",
       "    .dataframe tbody tr th {\n",
       "        vertical-align: top;\n",
       "    }\n",
       "\n",
       "    .dataframe thead th {\n",
       "        text-align: right;\n",
       "    }\n",
       "</style>\n",
       "<table border=\"1\" class=\"dataframe\">\n",
       "  <thead>\n",
       "    <tr style=\"text-align: right;\">\n",
       "      <th></th>\n",
       "      <th>Title</th>\n",
       "      <th>URL</th>\n",
       "      <th>Date</th>\n",
       "      <th>Provider</th>\n",
       "      <th>Upvotes</th>\n",
       "      <th>Downvotes</th>\n",
       "      <th>_podio_item_id</th>\n",
       "      <th>_podio_app_item_id</th>\n",
       "    </tr>\n",
       "  </thead>\n",
       "  <tbody>\n",
       "    <tr>\n",
       "      <th>0</th>\n",
       "      <td>Boy, 8, cuddles West Midlands Police pups on b...</td>\n",
       "      <td>https://www.bbc.co.uk/news/uk-england-birmingh...</td>\n",
       "      <td>2020-08-09</td>\n",
       "      <td>bbc</td>\n",
       "      <td>0</td>\n",
       "      <td>0</td>\n",
       "      <td>1508029305</td>\n",
       "      <td>21084</td>\n",
       "    </tr>\n",
       "    <tr>\n",
       "      <th>1</th>\n",
       "      <td>Missing ring found: Merthyr Tydfil mother reun...</td>\n",
       "      <td>https://www.bbc.co.uk/news/uk-wales-53748605?i...</td>\n",
       "      <td>2020-08-12</td>\n",
       "      <td>bbc</td>\n",
       "      <td>0</td>\n",
       "      <td>0</td>\n",
       "      <td>1508029283</td>\n",
       "      <td>21083</td>\n",
       "    </tr>\n",
       "    <tr>\n",
       "      <th>2</th>\n",
       "      <td>Staithes sea rescue: Boy, 11, jumps in to save...</td>\n",
       "      <td>https://www.bbc.co.uk/news/uk-england-york-nor...</td>\n",
       "      <td>2020-08-21</td>\n",
       "      <td>bbc</td>\n",
       "      <td>0</td>\n",
       "      <td>0</td>\n",
       "      <td>1508029271</td>\n",
       "      <td>21082</td>\n",
       "    </tr>\n",
       "    <tr>\n",
       "      <th>3</th>\n",
       "      <td>Going for a Lake District walk with Max the Mi...</td>\n",
       "      <td>https://www.bbc.co.uk/news/uk-england-cumbria-...</td>\n",
       "      <td>2020-08-31</td>\n",
       "      <td>bbc</td>\n",
       "      <td>0</td>\n",
       "      <td>0</td>\n",
       "      <td>1508029261</td>\n",
       "      <td>21081</td>\n",
       "    </tr>\n",
       "    <tr>\n",
       "      <th>4</th>\n",
       "      <td>Rhyl lifeboat crew rescue seagull-chasing dog ...</td>\n",
       "      <td>https://www.bbc.co.uk/news/uk-wales-53974775?i...</td>\n",
       "      <td>2020-08-31</td>\n",
       "      <td>bbc</td>\n",
       "      <td>0</td>\n",
       "      <td>0</td>\n",
       "      <td>1508029246</td>\n",
       "      <td>21080</td>\n",
       "    </tr>\n",
       "    <tr>\n",
       "      <th>5</th>\n",
       "      <td>Long-awaited Giantess Geyser finally erupts</td>\n",
       "      <td>https://www.optimistdaily.com/2020/09/long-awa...</td>\n",
       "      <td>2020-09-01</td>\n",
       "      <td>optimistdaily</td>\n",
       "      <td>0</td>\n",
       "      <td>0</td>\n",
       "      <td>1508029234</td>\n",
       "      <td>21079</td>\n",
       "    </tr>\n",
       "    <tr>\n",
       "      <th>6</th>\n",
       "      <td>These US firms are part of a global reforestat...</td>\n",
       "      <td>https://www.optimistdaily.com/2020/09/these-us...</td>\n",
       "      <td>2020-09-01</td>\n",
       "      <td>optimistdaily</td>\n",
       "      <td>0</td>\n",
       "      <td>0</td>\n",
       "      <td>1508029226</td>\n",
       "      <td>21078</td>\n",
       "    </tr>\n",
       "    <tr>\n",
       "      <th>7</th>\n",
       "      <td>New lidar technology offers a glimpse into the...</td>\n",
       "      <td>https://www.optimistdaily.com/2020/09/new-lida...</td>\n",
       "      <td>2020-09-01</td>\n",
       "      <td>optimistdaily</td>\n",
       "      <td>0</td>\n",
       "      <td>0</td>\n",
       "      <td>1508029187</td>\n",
       "      <td>21077</td>\n",
       "    </tr>\n",
       "    <tr>\n",
       "      <th>8</th>\n",
       "      <td>Not a gram of salmon goes to waste with this n...</td>\n",
       "      <td>https://www.optimistdaily.com/2020/09/not-a-gr...</td>\n",
       "      <td>2020-09-01</td>\n",
       "      <td>optimistdaily</td>\n",
       "      <td>0</td>\n",
       "      <td>0</td>\n",
       "      <td>1508029173</td>\n",
       "      <td>21076</td>\n",
       "    </tr>\n",
       "    <tr>\n",
       "      <th>9</th>\n",
       "      <td>Doubling down on diesel: CA regulations will s...</td>\n",
       "      <td>https://www.optimistdaily.com/2020/09/doubling...</td>\n",
       "      <td>2020-09-01</td>\n",
       "      <td>optimistdaily</td>\n",
       "      <td>0</td>\n",
       "      <td>0</td>\n",
       "      <td>1508029163</td>\n",
       "      <td>21075</td>\n",
       "    </tr>\n",
       "    <tr>\n",
       "      <th>10</th>\n",
       "      <td>6 ways to take back your motivation</td>\n",
       "      <td>https://www.optimistdaily.com/2020/09/6-ways-t...</td>\n",
       "      <td>2020-09-01</td>\n",
       "      <td>optimistdaily</td>\n",
       "      <td>0</td>\n",
       "      <td>0</td>\n",
       "      <td>1508029148</td>\n",
       "      <td>21074</td>\n",
       "    </tr>\n",
       "    <tr>\n",
       "      <th>11</th>\n",
       "      <td>A giant virtual power plant is coming to Calif...</td>\n",
       "      <td>https://www.optimistdaily.com/2020/09/a-giant-...</td>\n",
       "      <td>2020-09-01</td>\n",
       "      <td>optimistdaily</td>\n",
       "      <td>0</td>\n",
       "      <td>0</td>\n",
       "      <td>1508029136</td>\n",
       "      <td>21073</td>\n",
       "    </tr>\n",
       "    <tr>\n",
       "      <th>12</th>\n",
       "      <td>Finnish town gives locals free cake if they cu...</td>\n",
       "      <td>https://www.optimistdaily.com/2020/09/finnish-...</td>\n",
       "      <td>2020-09-01</td>\n",
       "      <td>optimistdaily</td>\n",
       "      <td>0</td>\n",
       "      <td>0</td>\n",
       "      <td>1508029096</td>\n",
       "      <td>21072</td>\n",
       "    </tr>\n",
       "    <tr>\n",
       "      <th>13</th>\n",
       "      <td>Craving a bedtime snack? These 9 foods promote...</td>\n",
       "      <td>https://www.optimistdaily.com/2020/09/craving-...</td>\n",
       "      <td>2020-09-01</td>\n",
       "      <td>optimistdaily</td>\n",
       "      <td>0</td>\n",
       "      <td>0</td>\n",
       "      <td>1508029088</td>\n",
       "      <td>21071</td>\n",
       "    </tr>\n",
       "    <tr>\n",
       "      <th>14</th>\n",
       "      <td>Five years on, many refugees are feeling at ho...</td>\n",
       "      <td>https://www.optimistdaily.com/2020/09/five-yea...</td>\n",
       "      <td>2020-09-01</td>\n",
       "      <td>optimistdaily</td>\n",
       "      <td>0</td>\n",
       "      <td>0</td>\n",
       "      <td>1508029081</td>\n",
       "      <td>21070</td>\n",
       "    </tr>\n",
       "  </tbody>\n",
       "</table>\n",
       "</div>"
      ],
      "text/plain": [
       "                                                Title  \\\n",
       "0   Boy, 8, cuddles West Midlands Police pups on b...   \n",
       "1   Missing ring found: Merthyr Tydfil mother reun...   \n",
       "2   Staithes sea rescue: Boy, 11, jumps in to save...   \n",
       "3   Going for a Lake District walk with Max the Mi...   \n",
       "4   Rhyl lifeboat crew rescue seagull-chasing dog ...   \n",
       "5         Long-awaited Giantess Geyser finally erupts   \n",
       "6   These US firms are part of a global reforestat...   \n",
       "7   New lidar technology offers a glimpse into the...   \n",
       "8   Not a gram of salmon goes to waste with this n...   \n",
       "9   Doubling down on diesel: CA regulations will s...   \n",
       "10                6 ways to take back your motivation   \n",
       "11  A giant virtual power plant is coming to Calif...   \n",
       "12  Finnish town gives locals free cake if they cu...   \n",
       "13  Craving a bedtime snack? These 9 foods promote...   \n",
       "14  Five years on, many refugees are feeling at ho...   \n",
       "\n",
       "                                                  URL        Date  \\\n",
       "0   https://www.bbc.co.uk/news/uk-england-birmingh...  2020-08-09   \n",
       "1   https://www.bbc.co.uk/news/uk-wales-53748605?i...  2020-08-12   \n",
       "2   https://www.bbc.co.uk/news/uk-england-york-nor...  2020-08-21   \n",
       "3   https://www.bbc.co.uk/news/uk-england-cumbria-...  2020-08-31   \n",
       "4   https://www.bbc.co.uk/news/uk-wales-53974775?i...  2020-08-31   \n",
       "5   https://www.optimistdaily.com/2020/09/long-awa...  2020-09-01   \n",
       "6   https://www.optimistdaily.com/2020/09/these-us...  2020-09-01   \n",
       "7   https://www.optimistdaily.com/2020/09/new-lida...  2020-09-01   \n",
       "8   https://www.optimistdaily.com/2020/09/not-a-gr...  2020-09-01   \n",
       "9   https://www.optimistdaily.com/2020/09/doubling...  2020-09-01   \n",
       "10  https://www.optimistdaily.com/2020/09/6-ways-t...  2020-09-01   \n",
       "11  https://www.optimistdaily.com/2020/09/a-giant-...  2020-09-01   \n",
       "12  https://www.optimistdaily.com/2020/09/finnish-...  2020-09-01   \n",
       "13  https://www.optimistdaily.com/2020/09/craving-...  2020-09-01   \n",
       "14  https://www.optimistdaily.com/2020/09/five-yea...  2020-09-01   \n",
       "\n",
       "         Provider  Upvotes  Downvotes  _podio_item_id  _podio_app_item_id  \n",
       "0             bbc        0          0      1508029305               21084  \n",
       "1             bbc        0          0      1508029283               21083  \n",
       "2             bbc        0          0      1508029271               21082  \n",
       "3             bbc        0          0      1508029261               21081  \n",
       "4             bbc        0          0      1508029246               21080  \n",
       "5   optimistdaily        0          0      1508029234               21079  \n",
       "6   optimistdaily        0          0      1508029226               21078  \n",
       "7   optimistdaily        0          0      1508029187               21077  \n",
       "8   optimistdaily        0          0      1508029173               21076  \n",
       "9   optimistdaily        0          0      1508029163               21075  \n",
       "10  optimistdaily        0          0      1508029148               21074  \n",
       "11  optimistdaily        0          0      1508029136               21073  \n",
       "12  optimistdaily        0          0      1508029096               21072  \n",
       "13  optimistdaily        0          0      1508029088               21071  \n",
       "14  optimistdaily        0          0      1508029081               21070  "
      ]
     },
     "execution_count": 8,
     "metadata": {},
     "output_type": "execute_result"
    }
   ],
   "source": [
    "df_from_podio"
   ]
  }
 ],
 "metadata": {
  "kernelspec": {
   "display_name": "Python 3",
   "language": "python",
   "name": "python3"
  },
  "language_info": {
   "codemirror_mode": {
    "name": "ipython",
    "version": 3
   },
   "file_extension": ".py",
   "mimetype": "text/x-python",
   "name": "python",
   "nbconvert_exporter": "python",
   "pygments_lexer": "ipython3",
   "version": "3.7.6"
  },
  "toc": {
   "base_numbering": 1,
   "nav_menu": {},
   "number_sections": true,
   "sideBar": true,
   "skip_h1_title": false,
   "title_cell": "Table of Contents",
   "title_sidebar": "Contents",
   "toc_cell": false,
   "toc_position": {},
   "toc_section_display": true,
   "toc_window_display": false
  }
 },
 "nbformat": 4,
 "nbformat_minor": 4
}
