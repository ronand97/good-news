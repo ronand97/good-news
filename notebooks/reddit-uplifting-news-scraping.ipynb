{
 "cells": [
  {
   "cell_type": "code",
   "execution_count": 1,
   "metadata": {
    "ExecuteTime": {
     "end_time": "2020-10-05T14:18:31.756222Z",
     "start_time": "2020-10-05T14:18:29.905791Z"
    }
   },
   "outputs": [],
   "source": [
    "import praw\n",
    "import datetime\n",
    "import pandas as pd\n",
    "import re"
   ]
  },
  {
   "cell_type": "code",
   "execution_count": 2,
   "metadata": {
    "ExecuteTime": {
     "end_time": "2020-10-05T14:18:31.763147Z",
     "start_time": "2020-10-05T14:18:31.758186Z"
    }
   },
   "outputs": [],
   "source": [
    "def reddit_auth(auth_json):\n",
    "    \n",
    "    reddit = praw.Reddit(username=auth_json['username'],\n",
    "                         password=auth_json['password'],\n",
    "                         client_id=auth_json['client_id'],\n",
    "                         client_secret=auth_json['client_secret'],\n",
    "                         user_agent=auth_json['user_agent'])\n",
    "    return reddit"
   ]
  },
  {
   "cell_type": "code",
   "execution_count": 6,
   "metadata": {
    "ExecuteTime": {
     "end_time": "2020-10-05T14:18:48.394468Z",
     "start_time": "2020-10-05T14:18:48.388458Z"
    }
   },
   "outputs": [],
   "source": [
    "auth_json = {'client_id': '9sIhMkT4rrMQjA',\n",
    "             'client_secret': 'LzQR8Qkql1FueFxrQ-5wxK5Fq9E',\n",
    "             'user_agent': 'dona_lic_app',\n",
    "             'username': 'dona_lic',\n",
    "             'password': 'Kgvv9LTy%%8@5WlY'}\n",
    "reddit = reddit_auth(auth_json)"
   ]
  },
  {
   "cell_type": "code",
   "execution_count": 7,
   "metadata": {
    "ExecuteTime": {
     "end_time": "2020-10-05T14:18:48.680675Z",
     "start_time": "2020-10-05T14:18:48.673695Z"
    }
   },
   "outputs": [],
   "source": [
    "def get_top_reddit_posts(reddit, subreddit, top, lim):\n",
    "    posts = reddit.subreddit(subreddit).top(top)\n",
    "    df = pd.DataFrame()\n",
    "    cols = ['url', 'title', 'date', 'text', 'root_url']\n",
    "\n",
    "    for post in posts:\n",
    "        utc = post.created_utc\n",
    "        fmt = '%B %d, %Y'\n",
    "        date = datetime.datetime.utcfromtimestamp(utc).strftime(fmt)\n",
    "        root_url = re.match('^.+?[^\\/:](?=[?\\/]|$)', post.url).group(0)\n",
    "\n",
    "        data = [post.url, post.title, date, '', root_url]\n",
    "        \n",
    "        df = df.append(pd.DataFrame([data], columns=cols))\n",
    "        \n",
    "    return df.head(lim)"
   ]
  },
  {
   "cell_type": "code",
   "execution_count": 9,
   "metadata": {
    "ExecuteTime": {
     "end_time": "2020-10-05T14:18:57.281899Z",
     "start_time": "2020-10-05T14:18:56.467833Z"
    }
   },
   "outputs": [
    {
     "data": {
      "text/html": [
       "<div>\n",
       "<style scoped>\n",
       "    .dataframe tbody tr th:only-of-type {\n",
       "        vertical-align: middle;\n",
       "    }\n",
       "\n",
       "    .dataframe tbody tr th {\n",
       "        vertical-align: top;\n",
       "    }\n",
       "\n",
       "    .dataframe thead th {\n",
       "        text-align: right;\n",
       "    }\n",
       "</style>\n",
       "<table border=\"1\" class=\"dataframe\">\n",
       "  <thead>\n",
       "    <tr style=\"text-align: right;\">\n",
       "      <th></th>\n",
       "      <th>url</th>\n",
       "      <th>title</th>\n",
       "      <th>date</th>\n",
       "      <th>text</th>\n",
       "      <th>root_url</th>\n",
       "    </tr>\n",
       "  </thead>\n",
       "  <tbody>\n",
       "    <tr>\n",
       "      <th>0</th>\n",
       "      <td>https://www.autocar.co.uk/car-news/industry/an...</td>\n",
       "      <td>Volvo reports that EVs make up for their produ...</td>\n",
       "      <td>October 04, 2020</td>\n",
       "      <td></td>\n",
       "      <td>https://www.autocar.co.uk</td>\n",
       "    </tr>\n",
       "    <tr>\n",
       "      <th>0</th>\n",
       "      <td>https://www.bbc.com/news/world-australia-54417343</td>\n",
       "      <td>Tasmanian devils have been reintroduced into t...</td>\n",
       "      <td>October 05, 2020</td>\n",
       "      <td></td>\n",
       "      <td>https://www.bbc.com</td>\n",
       "    </tr>\n",
       "  </tbody>\n",
       "</table>\n",
       "</div>"
      ],
      "text/plain": [
       "                                                 url  \\\n",
       "0  https://www.autocar.co.uk/car-news/industry/an...   \n",
       "0  https://www.bbc.com/news/world-australia-54417343   \n",
       "\n",
       "                                               title              date text  \\\n",
       "0  Volvo reports that EVs make up for their produ...  October 04, 2020        \n",
       "0  Tasmanian devils have been reintroduced into t...  October 05, 2020        \n",
       "\n",
       "                    root_url  \n",
       "0  https://www.autocar.co.uk  \n",
       "0        https://www.bbc.com  "
      ]
     },
     "execution_count": 9,
     "metadata": {},
     "output_type": "execute_result"
    }
   ],
   "source": [
    "df = get_top_reddit_posts(reddit, 'upliftingnews', 'day', 2)\n",
    "df"
   ]
  },
  {
   "cell_type": "code",
   "execution_count": null,
   "metadata": {},
   "outputs": [],
   "source": []
  },
  {
   "cell_type": "code",
   "execution_count": null,
   "metadata": {},
   "outputs": [],
   "source": []
  }
 ],
 "metadata": {
  "kernelspec": {
   "display_name": "Python 3",
   "language": "python",
   "name": "python3"
  },
  "language_info": {
   "codemirror_mode": {
    "name": "ipython",
    "version": 3
   },
   "file_extension": ".py",
   "mimetype": "text/x-python",
   "name": "python",
   "nbconvert_exporter": "python",
   "pygments_lexer": "ipython3",
   "version": "3.7.6"
  },
  "toc": {
   "base_numbering": 1,
   "nav_menu": {},
   "number_sections": true,
   "sideBar": true,
   "skip_h1_title": false,
   "title_cell": "Table of Contents",
   "title_sidebar": "Contents",
   "toc_cell": false,
   "toc_position": {},
   "toc_section_display": true,
   "toc_window_display": false
  }
 },
 "nbformat": 4,
 "nbformat_minor": 4
}
